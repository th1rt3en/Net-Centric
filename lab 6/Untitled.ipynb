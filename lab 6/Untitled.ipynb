{
 "cells": [
  {
   "cell_type": "code",
   "execution_count": 1,
   "metadata": {},
   "outputs": [],
   "source": [
    "import socket\n",
    "from os import stat\n",
    "import re\n",
    "import threading"
   ]
  },
  {
   "cell_type": "code",
   "execution_count": 2,
   "metadata": {},
   "outputs": [],
   "source": [
    "TCP_IP = '127.0.0.1'\n",
    "TCP_PORT = 9999\n",
    "BUFFER_SIZE = 1024"
   ]
  },
  {
   "cell_type": "code",
   "execution_count": 3,
   "metadata": {},
   "outputs": [],
   "source": [
    "s = socket.socket(socket.AF_INET, socket.SOCK_STREAM)\n",
    "s.bind((TCP_IP, TCP_PORT))\n",
    "s.listen(1)"
   ]
  },
  {
   "cell_type": "code",
   "execution_count": 4,
   "metadata": {},
   "outputs": [],
   "source": [
    "def html_response(conn):\n",
    "    html = \"HTTP/1.1 200 OK\\r\\nContent-Length: {0}\\r\\nContent-Type: text/html\\r\\n\\n{1}\"\n",
    "    while 1:\n",
    "        data = conn.recv(BUFFER_SIZE)\n",
    "        if len(re.findall(r'GET /index.html', data)):\n",
    "            f = open('index.html').read()\n",
    "            conn.send(html.format(len(f), f))"
   ]
  },
  {
   "cell_type": "code",
   "execution_count": 5,
   "metadata": {},
   "outputs": [],
   "source": [
    "def jpg_response(conn):\n",
    "    jpg = \"HTTP/1.1 200 OK\\r\\nContent-Length: {0}\\r\\nContent-Type: image/jpg\\r\\n\\n{1}\"\n",
    "    while 1:\n",
    "        data = conn.recv(BUFFER_SIZE)\n",
    "        if len(re.findall(r'GET /image.jpg', data)):\n",
    "            f = open('image.jpg', 'rb').read()\n",
    "            conn.send(jpg.format(stat('image.jpg').st_size, f))"
   ]
  },
  {
   "cell_type": "code",
   "execution_count": 6,
   "metadata": {},
   "outputs": [],
   "source": [
    "conn, addr = s.accept()\n",
    "t1 = threading.Thread(target=html_response, args=(conn,))\n",
    "t2 = threading.Thread(target=jpg_response, args=(conn,))\n",
    "t1.start()\n",
    "t2.start()"
   ]
  },
  {
   "cell_type": "code",
   "execution_count": null,
   "metadata": {},
   "outputs": [],
   "source": []
  }
 ],
 "metadata": {
  "kernelspec": {
   "display_name": "Python 2",
   "language": "python",
   "name": "python2"
  },
  "language_info": {
   "codemirror_mode": {
    "name": "ipython",
    "version": 2
   },
   "file_extension": ".py",
   "mimetype": "text/x-python",
   "name": "python",
   "nbconvert_exporter": "python",
   "pygments_lexer": "ipython2",
   "version": "2.7.14"
  }
 },
 "nbformat": 4,
 "nbformat_minor": 2
}
