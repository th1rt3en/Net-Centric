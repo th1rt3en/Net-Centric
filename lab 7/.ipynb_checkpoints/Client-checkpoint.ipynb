{
 "cells": [
  {
   "cell_type": "code",
   "execution_count": 2,
   "metadata": {
    "collapsed": true
   },
   "outputs": [],
   "source": [
    "import socket\n",
    "import os\n",
    "import sys\n",
    "import thread\n",
    "import time\n",
    "import json\n",
    "\n",
    "IP = \"127.0.0.1\"\n",
    "Port = 9999\n",
    "username = raw_input(\"Enter your username: \")"
   ]
  },
  {
   "cell_type": "code",
   "execution_count": 3,
   "metadata": {
    "collapsed": true
   },
   "outputs": [],
   "source": [
    "sock = socket.socket(socket.AF_INET, socket.SOCK_DGRAM)"
   ]
  },
  {
   "cell_type": "code",
   "execution_count": 5,
   "metadata": {
    "collapsed": true
   },
   "outputs": [],
   "source": [
    "def get_messages():\n",
    "    global sock, username\n",
    "    while True:\n",
    "        data = None\n",
    "        try:\n",
    "            data, addr = sock.recvfrom(1024)\n",
    "        except socket.error:\n",
    "            time.sleep(0.01)\n",
    "        if data:\n",
    "            try:\n",
    "                message = json.loads(data)\n",
    "                if(message['username'] != username):\n",
    "                    msg_str = message['message']\n",
    "                    if(message['username']):\n",
    "                        msg_str = message['username'] + \": \" + msg_str\n",
    "                    if len(message['message']) > 0:\n",
    "                        print msg_str\n",
    "            except ValueError:\n",
    "                print \"error: tried to decode something invald\""
   ]
  },
  {
   "cell_type": "code",
   "execution_count": 6,
   "metadata": {
    "collapsed": true
   },
   "outputs": [],
   "source": [
    "def get_input():\n",
    "    global sock, username\n",
    "    try:\n",
    "        while True:\n",
    "            message = {\"username\":username, \"message\":raw_input().strip()}\n",
    "            sock.sendto(json.dumps(message), (IP, Port))\n",
    "    except KeyboardInterrupt:\n",
    "        print \"Disconnected\""
   ]
  },
  {
   "cell_type": "code",
   "execution_count": null,
   "metadata": {
    "collapsed": true
   },
   "outputs": [],
   "source": [
    "thread.start_new_thread(get_input, ())\n",
    "thread.start_new_thread(get_messages, ())\n",
    "\n",
    "message = {\"username\":username, \"message\":\"/hello\"}\n",
    "sock.sendto(json.dumps(message), (IP, Port))\n",
    "message = {\"username\":username, \"message\":\"/who\"}\n",
    "sock.sendto(json.dumps(message), (IP, Port))\n",
    "try: \n",
    "    while 1:\n",
    "        time.sleep(0.01)\n",
    "except KeyboardInterrupt:\n",
    "    print \"bye\"\n",
    "    message = {\"username\":username, \"message\":\"/goodbye\"}\n",
    "    sock.sendto(json.dumps(message), (IP, Port))\n",
    "    sys.exit(0)"
   ]
  }
 ],
 "metadata": {
  "kernelspec": {
   "display_name": "Python 2",
   "language": "python",
   "name": "python2"
  },
  "language_info": {
   "codemirror_mode": {
    "name": "ipython",
    "version": 2
   },
   "file_extension": ".py",
   "mimetype": "text/x-python",
   "name": "python",
   "nbconvert_exporter": "python",
   "pygments_lexer": "ipython2",
   "version": "2.7.14"
  }
 },
 "nbformat": 4,
 "nbformat_minor": 2
}
