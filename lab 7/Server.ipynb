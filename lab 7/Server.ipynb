{
 "cells": [
  {
   "cell_type": "code",
   "execution_count": 1,
   "metadata": {
    "collapsed": true
   },
   "outputs": [],
   "source": [
    "import socket\n",
    "import time\n",
    "import sys\n",
    "import json\n",
    "\n",
    "IP = \"127.0.0.1\"\n",
    "Port = 9999"
   ]
  },
  {
   "cell_type": "code",
   "execution_count": 2,
   "metadata": {
    "collapsed": true
   },
   "outputs": [],
   "source": [
    "sock = socket.socket(socket.AF_INET, socket.SOCK_DGRAM)\n",
    "sock.bind((IP, Port))"
   ]
  },
  {
   "cell_type": "code",
   "execution_count": 3,
   "metadata": {
    "collapsed": true
   },
   "outputs": [],
   "source": [
    "clients = []"
   ]
  },
  {
   "cell_type": "code",
   "execution_count": 4,
   "metadata": {
    "collapsed": true
   },
   "outputs": [],
   "source": [
    "def broadcast(data):\n",
    "    global clients\n",
    "    for client in clients:\n",
    "        sock.sendto(data, client[1])"
   ]
  },
  {
   "cell_type": "code",
   "execution_count": null,
   "metadata": {},
   "outputs": [
    {
     "name": "stdout",
     "output_type": "stream",
     "text": [
      "{\"username\": \"negarr\", \"color\": 0, \"message\": \"/hello\"}\n",
      "{\"username\": \"negarr\", \"color\": 0, \"message\": \"/who\"}\n",
      "{\"username\": \"negarr\", \"color\": 0, \"message\": \"hi\"}\n",
      "[(u'negarr', ('127.0.0.1', 59340))]\n"
     ]
    }
   ],
   "source": [
    "while True:\n",
    "    data = None\n",
    "    message = None\n",
    "    try:\n",
    "        data, addr = sock.recvfrom(1024)\n",
    "        message = json.loads(data)\n",
    "        client = (message['username'], addr)\n",
    "        if client not in clients:\n",
    "            clients.append(client)\n",
    "    except socket.error:\n",
    "        time.sleep(0.01)\n",
    "    if data:\n",
    "        print data\n",
    "        try: \n",
    "            if(message['message'].startswith(\"/hello\")):\n",
    "                outjson = {\"username\":\"server\", \"message\":message['username']+\" joined the chat\"} \n",
    "                broadcast(json.dumps(outjson))\n",
    "            elif (message['message'].startswith(\"/who\")):\n",
    "                outjson = {\"username\":\"server\", \"message\":\"people in room: \"+', '.join([y[0] for y in clients])} \n",
    "                sock.sendto(json.dumps(outjson), client[1])\n",
    "            elif (message['message'].startswith(\"/goodbye\")):\n",
    "                outjson = {\"username\":\"server\", \"message\":message['username']+\" left the chat\"} \n",
    "                clients.remove(client)\n",
    "                broadcast(json.dumps(outjson))\n",
    "            else:\n",
    "                outjson = {\"username\":message['username'], \"message\":message['message']}\n",
    "                broadcast(json.dumps(outjson))\n",
    "                print clients\n",
    "        except ValueError:\n",
    "            print \"indecipherable json\""
   ]
  },
  {
   "cell_type": "code",
   "execution_count": null,
   "metadata": {
    "collapsed": true
   },
   "outputs": [],
   "source": []
  }
 ],
 "metadata": {
  "kernelspec": {
   "display_name": "Python 2",
   "language": "python",
   "name": "python2"
  },
  "language_info": {
   "codemirror_mode": {
    "name": "ipython",
    "version": 2
   },
   "file_extension": ".py",
   "mimetype": "text/x-python",
   "name": "python",
   "nbconvert_exporter": "python",
   "pygments_lexer": "ipython2",
   "version": "2.7.14"
  }
 },
 "nbformat": 4,
 "nbformat_minor": 2
}
